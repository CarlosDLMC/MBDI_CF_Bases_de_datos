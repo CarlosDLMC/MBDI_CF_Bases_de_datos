{
 "cells": [
  {
   "cell_type": "code",
   "execution_count": 1,
   "metadata": {},
   "outputs": [],
   "source": [
    "%load_ext sql\n",
    "%sql sqlite:///love4pets.db"
   ]
  },
  {
   "cell_type": "code",
   "execution_count": 2,
   "metadata": {},
   "outputs": [
    {
     "name": "stdout",
     "output_type": "stream",
     "text": [
      " * sqlite:///love4pets.db\n",
      "Done.\n"
     ]
    },
    {
     "data": {
      "text/html": [
       "<table>\n",
       "    <tr>\n",
       "        <th>departamento_id</th>\n",
       "        <th>nombre</th>\n",
       "    </tr>\n",
       "    <tr>\n",
       "        <td>1</td>\n",
       "        <td>finanzas</td>\n",
       "    </tr>\n",
       "    <tr>\n",
       "        <td>2</td>\n",
       "        <td>ventas</td>\n",
       "    </tr>\n",
       "    <tr>\n",
       "        <td>3</td>\n",
       "        <td>recursos humanos</td>\n",
       "    </tr>\n",
       "    <tr>\n",
       "        <td>4</td>\n",
       "        <td>marketing</td>\n",
       "    </tr>\n",
       "    <tr>\n",
       "        <td>5</td>\n",
       "        <td>veterinario</td>\n",
       "    </tr>\n",
       "    <tr>\n",
       "        <td>6</td>\n",
       "        <td>informatica</td>\n",
       "    </tr>\n",
       "    <tr>\n",
       "        <td>7</td>\n",
       "        <td>investigacion</td>\n",
       "    </tr>\n",
       "</table>"
      ],
      "text/plain": [
       "[(1, 'finanzas'),\n",
       " (2, 'ventas'),\n",
       " (3, 'recursos humanos'),\n",
       " (4, 'marketing'),\n",
       " (5, 'veterinario'),\n",
       " (6, 'informatica'),\n",
       " (7, 'investigacion')]"
      ]
     },
     "execution_count": 2,
     "metadata": {},
     "output_type": "execute_result"
    }
   ],
   "source": [
    "%sql select * from departamento;"
   ]
  },
  {
   "cell_type": "code",
   "execution_count": 3,
   "metadata": {},
   "outputs": [
    {
     "name": "stdout",
     "output_type": "stream",
     "text": [
      " * sqlite:///love4pets.db\n",
      "Done.\n"
     ]
    },
    {
     "data": {
      "text/html": [
       "<table>\n",
       "    <tr>\n",
       "        <th>departamento_id</th>\n",
       "        <th>nombre</th>\n",
       "    </tr>\n",
       "    <tr>\n",
       "        <td>1</td>\n",
       "        <td>finanzas</td>\n",
       "    </tr>\n",
       "    <tr>\n",
       "        <td>2</td>\n",
       "        <td>ventas</td>\n",
       "    </tr>\n",
       "    <tr>\n",
       "        <td>3</td>\n",
       "        <td>recursos humanos</td>\n",
       "    </tr>\n",
       "    <tr>\n",
       "        <td>4</td>\n",
       "        <td>marketing</td>\n",
       "    </tr>\n",
       "    <tr>\n",
       "        <td>5</td>\n",
       "        <td>veterinario</td>\n",
       "    </tr>\n",
       "    <tr>\n",
       "        <td>6</td>\n",
       "        <td>informatica</td>\n",
       "    </tr>\n",
       "    <tr>\n",
       "        <td>7</td>\n",
       "        <td>investigacion</td>\n",
       "    </tr>\n",
       "</table>"
      ],
      "text/plain": [
       "[(1, 'finanzas'),\n",
       " (2, 'ventas'),\n",
       " (3, 'recursos humanos'),\n",
       " (4, 'marketing'),\n",
       " (5, 'veterinario'),\n",
       " (6, 'informatica'),\n",
       " (7, 'investigacion')]"
      ]
     },
     "execution_count": 3,
     "metadata": {},
     "output_type": "execute_result"
    }
   ],
   "source": [
    "%sql select * from departamento"
   ]
  },
  {
   "cell_type": "code",
   "execution_count": 4,
   "metadata": {},
   "outputs": [
    {
     "name": "stdout",
     "output_type": "stream",
     "text": [
      " * sqlite:///love4pets.db\n",
      "Done.\n"
     ]
    },
    {
     "data": {
      "text/html": [
       "<table>\n",
       "    <tr>\n",
       "        <th>empleado_id</th>\n",
       "        <th>nombre</th>\n",
       "        <th>email</th>\n",
       "        <th>telefono</th>\n",
       "        <th>salario</th>\n",
       "        <th>fecha_ingreso</th>\n",
       "        <th>departamento_id</th>\n",
       "    </tr>\n",
       "    <tr>\n",
       "        <td>1</td>\n",
       "        <td>Andres Riera Herrera</td>\n",
       "        <td>andresr@gmail.com</td>\n",
       "        <td>200-88-76</td>\n",
       "        <td>1500</td>\n",
       "        <td>2017-05-17 00:00:000</td>\n",
       "        <td>6</td>\n",
       "    </tr>\n",
       "    <tr>\n",
       "        <td>2</td>\n",
       "        <td>Lucas Serrano Caballero</td>\n",
       "        <td>lucas99@gmail.com</td>\n",
       "        <td>115-24-36</td>\n",
       "        <td>1200</td>\n",
       "        <td>2018-05-17 00:00:000</td>\n",
       "        <td>2</td>\n",
       "    </tr>\n",
       "    <tr>\n",
       "        <td>3</td>\n",
       "        <td>Pablo Pons Sanz</td>\n",
       "        <td>ppsanz@gmail.com</td>\n",
       "        <td>748-72-75</td>\n",
       "        <td>1350</td>\n",
       "        <td>2016-07-01 00:00:000</td>\n",
       "        <td>1</td>\n",
       "    </tr>\n",
       "    <tr>\n",
       "        <td>4</td>\n",
       "        <td>Saul Moreno Santos</td>\n",
       "        <td>saul.morenosantos@gmail.com</td>\n",
       "        <td>346-87-27</td>\n",
       "        <td>1600</td>\n",
       "        <td>2016-07-01 00:00:000</td>\n",
       "        <td>1</td>\n",
       "    </tr>\n",
       "    <tr>\n",
       "        <td>5</td>\n",
       "        <td>Nil Soler Diez</td>\n",
       "        <td>nilsoler@gmail.com</td>\n",
       "        <td>576-84-28</td>\n",
       "        <td>1100</td>\n",
       "        <td>2016-04-03 00:00:000</td>\n",
       "        <td>5</td>\n",
       "    </tr>\n",
       "    <tr>\n",
       "        <td>6</td>\n",
       "        <td>Sergio Reyes Gallardo</td>\n",
       "        <td>zerg@gmail.com</td>\n",
       "        <td>598-95-67</td>\n",
       "        <td>1000</td>\n",
       "        <td>2016-04-03 00:00:000</td>\n",
       "        <td>5</td>\n",
       "    </tr>\n",
       "    <tr>\n",
       "        <td>7</td>\n",
       "        <td>Isaac Jimenez Ortiz</td>\n",
       "        <td>isaacortiz@gmail.com</td>\n",
       "        <td>370-19-65</td>\n",
       "        <td>1600</td>\n",
       "        <td>2016-07-08 00:00:000</td>\n",
       "        <td>3</td>\n",
       "    </tr>\n",
       "    <tr>\n",
       "        <td>8</td>\n",
       "        <td>Guillermo Vidal Gomez</td>\n",
       "        <td>guillevidal@gmail.com</td>\n",
       "        <td>099-05-68</td>\n",
       "        <td>1400</td>\n",
       "        <td>2016-01-03 00:00:000</td>\n",
       "        <td>3</td>\n",
       "    </tr>\n",
       "    <tr>\n",
       "        <td>9</td>\n",
       "        <td>Daniel Quintero Quintero</td>\n",
       "        <td>danielquinterox2@gmail.com</td>\n",
       "        <td>261-97-06</td>\n",
       "        <td>1500</td>\n",
       "        <td>2017-03-05 00:00:000</td>\n",
       "        <td>6</td>\n",
       "    </tr>\n",
       "    <tr>\n",
       "        <td>10</td>\n",
       "        <td>Juan Manuel Olivares</td>\n",
       "        <td>juanma@gmail.com</td>\n",
       "        <td>269-37-06</td>\n",
       "        <td>1500</td>\n",
       "        <td>2017-03-05 00:00:000</td>\n",
       "        <td>None</td>\n",
       "    </tr>\n",
       "    <tr>\n",
       "        <td>11</td>\n",
       "        <td>Miguel Soto</td>\n",
       "        <td>misoto@gmail.com</td>\n",
       "        <td>269-92-06</td>\n",
       "        <td>1900</td>\n",
       "        <td>2017-03-05 00:00:000</td>\n",
       "        <td>6</td>\n",
       "    </tr>\n",
       "    <tr>\n",
       "        <td>12</td>\n",
       "        <td>Alejandro Fernandez</td>\n",
       "        <td>alefer@gmail.com</td>\n",
       "        <td>119-91-16</td>\n",
       "        <td>1850</td>\n",
       "        <td>2017-03-05 00:00:000</td>\n",
       "        <td>6</td>\n",
       "    </tr>\n",
       "</table>"
      ],
      "text/plain": [
       "[(1, 'Andres Riera Herrera', 'andresr@gmail.com', '200-88-76', 1500, '2017-05-17 00:00:000', 6),\n",
       " (2, 'Lucas Serrano Caballero', 'lucas99@gmail.com', '115-24-36', 1200, '2018-05-17 00:00:000', 2),\n",
       " (3, 'Pablo Pons Sanz', 'ppsanz@gmail.com', '748-72-75', 1350, '2016-07-01 00:00:000', 1),\n",
       " (4, 'Saul Moreno Santos', 'saul.morenosantos@gmail.com', '346-87-27', 1600, '2016-07-01 00:00:000', 1),\n",
       " (5, 'Nil Soler Diez', 'nilsoler@gmail.com', '576-84-28', 1100, '2016-04-03 00:00:000', 5),\n",
       " (6, 'Sergio Reyes Gallardo', 'zerg@gmail.com', '598-95-67', 1000, '2016-04-03 00:00:000', 5),\n",
       " (7, 'Isaac Jimenez Ortiz', 'isaacortiz@gmail.com', '370-19-65', 1600, '2016-07-08 00:00:000', 3),\n",
       " (8, 'Guillermo Vidal Gomez', 'guillevidal@gmail.com', '099-05-68', 1400, '2016-01-03 00:00:000', 3),\n",
       " (9, 'Daniel Quintero Quintero', 'danielquinterox2@gmail.com', '261-97-06', 1500, '2017-03-05 00:00:000', 6),\n",
       " (10, 'Juan Manuel Olivares', 'juanma@gmail.com', '269-37-06', 1500, '2017-03-05 00:00:000', None),\n",
       " (11, 'Miguel Soto', 'misoto@gmail.com', '269-92-06', 1900, '2017-03-05 00:00:000', 6),\n",
       " (12, 'Alejandro Fernandez', 'alefer@gmail.com', '119-91-16', 1850, '2017-03-05 00:00:000', 6)]"
      ]
     },
     "execution_count": 4,
     "metadata": {},
     "output_type": "execute_result"
    }
   ],
   "source": [
    "%sql select * from empleado"
   ]
  },
  {
   "cell_type": "markdown",
   "metadata": {},
   "source": [
    "\n",
    "Ejercicio 1.\n",
    "\n",
    "Complete el siguiente código para obtener un listado de los nombres, telefonos y ciudad de todos los clientes. "
   ]
  },
  {
   "cell_type": "code",
   "execution_count": 5,
   "metadata": {},
   "outputs": [
    {
     "name": "stdout",
     "output_type": "stream",
     "text": [
      " * sqlite:///love4pets.db\n",
      "Done.\n"
     ]
    },
    {
     "data": {
      "text/html": [
       "<table>\n",
       "    <tr>\n",
       "        <th>cid</th>\n",
       "        <th>name</th>\n",
       "        <th>type</th>\n",
       "        <th>notnull</th>\n",
       "        <th>dflt_value</th>\n",
       "        <th>pk</th>\n",
       "    </tr>\n",
       "    <tr>\n",
       "        <td>0</td>\n",
       "        <td>cliente_id</td>\n",
       "        <td>INTEGER</td>\n",
       "        <td>1</td>\n",
       "        <td>None</td>\n",
       "        <td>1</td>\n",
       "    </tr>\n",
       "    <tr>\n",
       "        <td>1</td>\n",
       "        <td>nombre</td>\n",
       "        <td>TEXT</td>\n",
       "        <td>1</td>\n",
       "        <td>None</td>\n",
       "        <td>0</td>\n",
       "    </tr>\n",
       "    <tr>\n",
       "        <td>2</td>\n",
       "        <td>email</td>\n",
       "        <td>TEXT</td>\n",
       "        <td>0</td>\n",
       "        <td>None</td>\n",
       "        <td>0</td>\n",
       "    </tr>\n",
       "    <tr>\n",
       "        <td>3</td>\n",
       "        <td>telefono</td>\n",
       "        <td>TEXT</td>\n",
       "        <td>1</td>\n",
       "        <td>None</td>\n",
       "        <td>0</td>\n",
       "    </tr>\n",
       "    <tr>\n",
       "        <td>4</td>\n",
       "        <td>contacto</td>\n",
       "        <td>TEXT</td>\n",
       "        <td>0</td>\n",
       "        <td>None</td>\n",
       "        <td>0</td>\n",
       "    </tr>\n",
       "    <tr>\n",
       "        <td>5</td>\n",
       "        <td>telefono_contacto</td>\n",
       "        <td>TEXT</td>\n",
       "        <td>0</td>\n",
       "        <td>None</td>\n",
       "        <td>0</td>\n",
       "    </tr>\n",
       "    <tr>\n",
       "        <td>6</td>\n",
       "        <td>ciudad</td>\n",
       "        <td>TEXT</td>\n",
       "        <td>1</td>\n",
       "        <td>None</td>\n",
       "        <td>0</td>\n",
       "    </tr>\n",
       "</table>"
      ],
      "text/plain": [
       "[(0, 'cliente_id', 'INTEGER', 1, None, 1),\n",
       " (1, 'nombre', 'TEXT', 1, None, 0),\n",
       " (2, 'email', 'TEXT', 0, None, 0),\n",
       " (3, 'telefono', 'TEXT', 1, None, 0),\n",
       " (4, 'contacto', 'TEXT', 0, None, 0),\n",
       " (5, 'telefono_contacto', 'TEXT', 0, None, 0),\n",
       " (6, 'ciudad', 'TEXT', 1, None, 0)]"
      ]
     },
     "execution_count": 5,
     "metadata": {},
     "output_type": "execute_result"
    }
   ],
   "source": [
    "%sql PRAGMA table_info(cliente)"
   ]
  },
  {
   "cell_type": "code",
   "execution_count": 6,
   "metadata": {},
   "outputs": [
    {
     "name": "stdout",
     "output_type": "stream",
     "text": [
      " * sqlite:///love4pets.db\n",
      "Done.\n"
     ]
    },
    {
     "data": {
      "text/html": [
       "<table>\n",
       "    <tr>\n",
       "        <th>nombre</th>\n",
       "        <th>telefono</th>\n",
       "        <th>ciudad</th>\n",
       "    </tr>\n",
       "    <tr>\n",
       "        <td>Mario Flores Gallardo</td>\n",
       "        <td>036-15-36</td>\n",
       "        <td>Madrid</td>\n",
       "    </tr>\n",
       "    <tr>\n",
       "        <td>Arnau Medina Garcia</td>\n",
       "        <td>094-10-88</td>\n",
       "        <td>Madrid</td>\n",
       "    </tr>\n",
       "    <tr>\n",
       "        <td>Ivan Medina Rubio</td>\n",
       "        <td>083-08-72</td>\n",
       "        <td>Toledo</td>\n",
       "    </tr>\n",
       "    <tr>\n",
       "        <td>Jan Vargas Santana</td>\n",
       "        <td>780-65-24</td>\n",
       "        <td>Madrid</td>\n",
       "    </tr>\n",
       "    <tr>\n",
       "        <td>Carlos Costa Guerrero</td>\n",
       "        <td>180-65-24</td>\n",
       "        <td>Madrid</td>\n",
       "    </tr>\n",
       "    <tr>\n",
       "        <td>Roberto Martin Ortega</td>\n",
       "        <td>742-63-27</td>\n",
       "        <td>Madrid</td>\n",
       "    </tr>\n",
       "    <tr>\n",
       "        <td>Gabriel Gonzalez Ortega</td>\n",
       "        <td>780-13-14</td>\n",
       "        <td>Madrid</td>\n",
       "    </tr>\n",
       "    <tr>\n",
       "        <td>Rayan Leon Ferrer</td>\n",
       "        <td>430-65-24</td>\n",
       "        <td>Madrid</td>\n",
       "    </tr>\n",
       "    <tr>\n",
       "        <td>Aitor Ruiz Sanchez</td>\n",
       "        <td>780-77-24</td>\n",
       "        <td>Madrid</td>\n",
       "    </tr>\n",
       "    <tr>\n",
       "        <td>Eric Rubio Carrasco</td>\n",
       "        <td>780-65-79</td>\n",
       "        <td>Madrid</td>\n",
       "    </tr>\n",
       "    <tr>\n",
       "        <td>Alberto Sanz Ruiz</td>\n",
       "        <td>781-15-24</td>\n",
       "        <td>Madrid</td>\n",
       "    </tr>\n",
       "    <tr>\n",
       "        <td>Jesus Medina Hernandez</td>\n",
       "        <td>782-35-25</td>\n",
       "        <td>Madrid</td>\n",
       "    </tr>\n",
       "    <tr>\n",
       "        <td>Pol Moya Pena</td>\n",
       "        <td>780-25-24</td>\n",
       "        <td>Toledo</td>\n",
       "    </tr>\n",
       "    <tr>\n",
       "        <td>Jose Gallardo Rodriguez</td>\n",
       "        <td>783-65-11</td>\n",
       "        <td>Madrid</td>\n",
       "    </tr>\n",
       "    <tr>\n",
       "        <td>Manuel Angel Gil</td>\n",
       "        <td>733-65-16</td>\n",
       "        <td>Madrid</td>\n",
       "    </tr>\n",
       "</table>"
      ],
      "text/plain": [
       "[('Mario Flores Gallardo', '036-15-36', 'Madrid'),\n",
       " ('Arnau Medina Garcia', '094-10-88', 'Madrid'),\n",
       " ('Ivan Medina Rubio', '083-08-72', 'Toledo'),\n",
       " ('Jan Vargas Santana', '780-65-24', 'Madrid'),\n",
       " ('Carlos Costa Guerrero', '180-65-24', 'Madrid'),\n",
       " ('Roberto Martin Ortega', '742-63-27', 'Madrid'),\n",
       " ('Gabriel Gonzalez Ortega', '780-13-14', 'Madrid'),\n",
       " ('Rayan Leon Ferrer', '430-65-24', 'Madrid'),\n",
       " ('Aitor Ruiz Sanchez', '780-77-24', 'Madrid'),\n",
       " ('Eric Rubio Carrasco', '780-65-79', 'Madrid'),\n",
       " ('Alberto Sanz Ruiz', '781-15-24', 'Madrid'),\n",
       " ('Jesus Medina Hernandez', '782-35-25', 'Madrid'),\n",
       " ('Pol Moya Pena', '780-25-24', 'Toledo'),\n",
       " ('Jose Gallardo Rodriguez', '783-65-11', 'Madrid'),\n",
       " ('Manuel Angel Gil', '733-65-16', 'Madrid')]"
      ]
     },
     "execution_count": 6,
     "metadata": {},
     "output_type": "execute_result"
    }
   ],
   "source": [
    "%sql select nombre, telefono, ciudad from cliente"
   ]
  },
  {
   "cell_type": "code",
   "execution_count": 7,
   "metadata": {},
   "outputs": [
    {
     "name": "stdout",
     "output_type": "stream",
     "text": [
      " * sqlite:///love4pets.db\n",
      "(sqlite3.OperationalError) near \"nombre\": syntax error\n",
      "[SQL: select nombre, telefono, ciudad from cliente orderby nombre]\n",
      "(Background on this error at: http://sqlalche.me/e/e3q8)\n"
     ]
    }
   ],
   "source": [
    "%sql select nombre, telefono, ciudad from cliente orderby nombre"
   ]
  },
  {
   "cell_type": "code",
   "execution_count": 8,
   "metadata": {},
   "outputs": [
    {
     "name": "stdout",
     "output_type": "stream",
     "text": [
      " * sqlite:///love4pets.db\n",
      "Done.\n"
     ]
    },
    {
     "data": {
      "text/html": [
       "<table>\n",
       "    <tr>\n",
       "        <th>nombre</th>\n",
       "        <th>telefono</th>\n",
       "        <th>ciudad</th>\n",
       "    </tr>\n",
       "    <tr>\n",
       "        <td>Aitor Ruiz Sanchez</td>\n",
       "        <td>780-77-24</td>\n",
       "        <td>Madrid</td>\n",
       "    </tr>\n",
       "    <tr>\n",
       "        <td>Alberto Sanz Ruiz</td>\n",
       "        <td>781-15-24</td>\n",
       "        <td>Madrid</td>\n",
       "    </tr>\n",
       "    <tr>\n",
       "        <td>Arnau Medina Garcia</td>\n",
       "        <td>094-10-88</td>\n",
       "        <td>Madrid</td>\n",
       "    </tr>\n",
       "    <tr>\n",
       "        <td>Carlos Costa Guerrero</td>\n",
       "        <td>180-65-24</td>\n",
       "        <td>Madrid</td>\n",
       "    </tr>\n",
       "    <tr>\n",
       "        <td>Eric Rubio Carrasco</td>\n",
       "        <td>780-65-79</td>\n",
       "        <td>Madrid</td>\n",
       "    </tr>\n",
       "    <tr>\n",
       "        <td>Gabriel Gonzalez Ortega</td>\n",
       "        <td>780-13-14</td>\n",
       "        <td>Madrid</td>\n",
       "    </tr>\n",
       "    <tr>\n",
       "        <td>Ivan Medina Rubio</td>\n",
       "        <td>083-08-72</td>\n",
       "        <td>Toledo</td>\n",
       "    </tr>\n",
       "    <tr>\n",
       "        <td>Jan Vargas Santana</td>\n",
       "        <td>780-65-24</td>\n",
       "        <td>Madrid</td>\n",
       "    </tr>\n",
       "    <tr>\n",
       "        <td>Jesus Medina Hernandez</td>\n",
       "        <td>782-35-25</td>\n",
       "        <td>Madrid</td>\n",
       "    </tr>\n",
       "    <tr>\n",
       "        <td>Jose Gallardo Rodriguez</td>\n",
       "        <td>783-65-11</td>\n",
       "        <td>Madrid</td>\n",
       "    </tr>\n",
       "    <tr>\n",
       "        <td>Manuel Angel Gil</td>\n",
       "        <td>733-65-16</td>\n",
       "        <td>Madrid</td>\n",
       "    </tr>\n",
       "    <tr>\n",
       "        <td>Mario Flores Gallardo</td>\n",
       "        <td>036-15-36</td>\n",
       "        <td>Madrid</td>\n",
       "    </tr>\n",
       "    <tr>\n",
       "        <td>Pol Moya Pena</td>\n",
       "        <td>780-25-24</td>\n",
       "        <td>Toledo</td>\n",
       "    </tr>\n",
       "    <tr>\n",
       "        <td>Rayan Leon Ferrer</td>\n",
       "        <td>430-65-24</td>\n",
       "        <td>Madrid</td>\n",
       "    </tr>\n",
       "    <tr>\n",
       "        <td>Roberto Martin Ortega</td>\n",
       "        <td>742-63-27</td>\n",
       "        <td>Madrid</td>\n",
       "    </tr>\n",
       "</table>"
      ],
      "text/plain": [
       "[('Aitor Ruiz Sanchez', '780-77-24', 'Madrid'),\n",
       " ('Alberto Sanz Ruiz', '781-15-24', 'Madrid'),\n",
       " ('Arnau Medina Garcia', '094-10-88', 'Madrid'),\n",
       " ('Carlos Costa Guerrero', '180-65-24', 'Madrid'),\n",
       " ('Eric Rubio Carrasco', '780-65-79', 'Madrid'),\n",
       " ('Gabriel Gonzalez Ortega', '780-13-14', 'Madrid'),\n",
       " ('Ivan Medina Rubio', '083-08-72', 'Toledo'),\n",
       " ('Jan Vargas Santana', '780-65-24', 'Madrid'),\n",
       " ('Jesus Medina Hernandez', '782-35-25', 'Madrid'),\n",
       " ('Jose Gallardo Rodriguez', '783-65-11', 'Madrid'),\n",
       " ('Manuel Angel Gil', '733-65-16', 'Madrid'),\n",
       " ('Mario Flores Gallardo', '036-15-36', 'Madrid'),\n",
       " ('Pol Moya Pena', '780-25-24', 'Toledo'),\n",
       " ('Rayan Leon Ferrer', '430-65-24', 'Madrid'),\n",
       " ('Roberto Martin Ortega', '742-63-27', 'Madrid')]"
      ]
     },
     "execution_count": 8,
     "metadata": {},
     "output_type": "execute_result"
    }
   ],
   "source": [
    "%sql select nombre, telefono, ciudad from cliente order by nombre"
   ]
  },
  {
   "cell_type": "code",
   "execution_count": 9,
   "metadata": {},
   "outputs": [
    {
     "name": "stdout",
     "output_type": "stream",
     "text": [
      " * sqlite:///love4pets.db\n",
      "Done.\n"
     ]
    },
    {
     "data": {
      "text/html": [
       "<table>\n",
       "    <tr>\n",
       "        <th>count(nombre)</th>\n",
       "    </tr>\n",
       "    <tr>\n",
       "        <td>15</td>\n",
       "    </tr>\n",
       "</table>"
      ],
      "text/plain": [
       "[(15,)]"
      ]
     },
     "execution_count": 9,
     "metadata": {},
     "output_type": "execute_result"
    }
   ],
   "source": [
    "%sql select count(nombre) from cliente"
   ]
  },
  {
   "cell_type": "code",
   "execution_count": 10,
   "metadata": {},
   "outputs": [
    {
     "name": "stdout",
     "output_type": "stream",
     "text": [
      " * sqlite:///love4pets.db\n",
      "(sqlite3.OperationalError) near \">\": syntax error\n",
      "[SQL: select nombre, salario FROM empleado WHERE salario => 1500;]\n",
      "(Background on this error at: http://sqlalche.me/e/e3q8)\n"
     ]
    }
   ],
   "source": [
    "%sql select nombre, salario FROM empleado WHERE salario => 1500;"
   ]
  },
  {
   "cell_type": "code",
   "execution_count": 11,
   "metadata": {},
   "outputs": [
    {
     "name": "stdout",
     "output_type": "stream",
     "text": [
      " * sqlite:///love4pets.db\n",
      "(sqlite3.OperationalError) near \"<\": syntax error\n",
      "[SQL: select nombre, salario FROM empleado WHERE salario =<1500;]\n",
      "(Background on this error at: http://sqlalche.me/e/e3q8)\n"
     ]
    }
   ],
   "source": [
    "%sql select nombre, salario FROM empleado WHERE salario =<1500;"
   ]
  },
  {
   "cell_type": "code",
   "execution_count": 12,
   "metadata": {},
   "outputs": [
    {
     "name": "stdout",
     "output_type": "stream",
     "text": [
      " * sqlite:///love4pets.db\n",
      "Done.\n"
     ]
    },
    {
     "data": {
      "text/html": [
       "<table>\n",
       "    <tr>\n",
       "        <th>nombre</th>\n",
       "        <th>salario</th>\n",
       "    </tr>\n",
       "    <tr>\n",
       "        <td>Andres Riera Herrera</td>\n",
       "        <td>1500</td>\n",
       "    </tr>\n",
       "    <tr>\n",
       "        <td>Lucas Serrano Caballero</td>\n",
       "        <td>1200</td>\n",
       "    </tr>\n",
       "    <tr>\n",
       "        <td>Pablo Pons Sanz</td>\n",
       "        <td>1350</td>\n",
       "    </tr>\n",
       "    <tr>\n",
       "        <td>Nil Soler Diez</td>\n",
       "        <td>1100</td>\n",
       "    </tr>\n",
       "    <tr>\n",
       "        <td>Sergio Reyes Gallardo</td>\n",
       "        <td>1000</td>\n",
       "    </tr>\n",
       "    <tr>\n",
       "        <td>Guillermo Vidal Gomez</td>\n",
       "        <td>1400</td>\n",
       "    </tr>\n",
       "    <tr>\n",
       "        <td>Daniel Quintero Quintero</td>\n",
       "        <td>1500</td>\n",
       "    </tr>\n",
       "    <tr>\n",
       "        <td>Juan Manuel Olivares</td>\n",
       "        <td>1500</td>\n",
       "    </tr>\n",
       "</table>"
      ],
      "text/plain": [
       "[('Andres Riera Herrera', 1500),\n",
       " ('Lucas Serrano Caballero', 1200),\n",
       " ('Pablo Pons Sanz', 1350),\n",
       " ('Nil Soler Diez', 1100),\n",
       " ('Sergio Reyes Gallardo', 1000),\n",
       " ('Guillermo Vidal Gomez', 1400),\n",
       " ('Daniel Quintero Quintero', 1500),\n",
       " ('Juan Manuel Olivares', 1500)]"
      ]
     },
     "execution_count": 12,
     "metadata": {},
     "output_type": "execute_result"
    }
   ],
   "source": [
    "%sql select nombre, salario FROM empleado WHERE salario <= 1500;"
   ]
  },
  {
   "cell_type": "code",
   "execution_count": 13,
   "metadata": {},
   "outputs": [
    {
     "name": "stdout",
     "output_type": "stream",
     "text": [
      " * sqlite:///love4pets.db\n",
      "Done.\n"
     ]
    },
    {
     "data": {
      "text/html": [
       "<table>\n",
       "    <tr>\n",
       "        <th>nombre</th>\n",
       "        <th>salario</th>\n",
       "    </tr>\n",
       "    <tr>\n",
       "        <td>Andres Riera Herrera</td>\n",
       "        <td>1500</td>\n",
       "    </tr>\n",
       "    <tr>\n",
       "        <td>Saul Moreno Santos</td>\n",
       "        <td>1600</td>\n",
       "    </tr>\n",
       "    <tr>\n",
       "        <td>Isaac Jimenez Ortiz</td>\n",
       "        <td>1600</td>\n",
       "    </tr>\n",
       "    <tr>\n",
       "        <td>Daniel Quintero Quintero</td>\n",
       "        <td>1500</td>\n",
       "    </tr>\n",
       "    <tr>\n",
       "        <td>Juan Manuel Olivares</td>\n",
       "        <td>1500</td>\n",
       "    </tr>\n",
       "    <tr>\n",
       "        <td>Miguel Soto</td>\n",
       "        <td>1900</td>\n",
       "    </tr>\n",
       "    <tr>\n",
       "        <td>Alejandro Fernandez</td>\n",
       "        <td>1850</td>\n",
       "    </tr>\n",
       "</table>"
      ],
      "text/plain": [
       "[('Andres Riera Herrera', 1500),\n",
       " ('Saul Moreno Santos', 1600),\n",
       " ('Isaac Jimenez Ortiz', 1600),\n",
       " ('Daniel Quintero Quintero', 1500),\n",
       " ('Juan Manuel Olivares', 1500),\n",
       " ('Miguel Soto', 1900),\n",
       " ('Alejandro Fernandez', 1850)]"
      ]
     },
     "execution_count": 13,
     "metadata": {},
     "output_type": "execute_result"
    }
   ],
   "source": [
    "%sql select nombre, salario FROM empleado WHERE salario >= 1500;"
   ]
  },
  {
   "cell_type": "code",
   "execution_count": 14,
   "metadata": {},
   "outputs": [
    {
     "name": "stdout",
     "output_type": "stream",
     "text": [
      " * sqlite:///love4pets.db\n",
      "Done.\n"
     ]
    },
    {
     "data": {
      "text/html": [
       "<table>\n",
       "    <tr>\n",
       "        <th>cliente_id</th>\n",
       "        <th>nombre</th>\n",
       "        <th>email</th>\n",
       "        <th>telefono</th>\n",
       "        <th>contacto</th>\n",
       "        <th>telefono_contacto</th>\n",
       "        <th>ciudad</th>\n",
       "    </tr>\n",
       "    <tr>\n",
       "        <td>1</td>\n",
       "        <td>Mario Flores Gallardo</td>\n",
       "        <td>marioflores@gmail.com</td>\n",
       "        <td>036-15-36</td>\n",
       "        <td>Aintzane Alvarez Iglesias</td>\n",
       "        <td>210-35-57</td>\n",
       "        <td>Madrid</td>\n",
       "    </tr>\n",
       "    <tr>\n",
       "        <td>2</td>\n",
       "        <td>Arnau Medina Garcia</td>\n",
       "        <td>arnaumedina@gmail.com</td>\n",
       "        <td>094-10-88</td>\n",
       "        <td></td>\n",
       "        <td></td>\n",
       "        <td>Madrid</td>\n",
       "    </tr>\n",
       "    <tr>\n",
       "        <td>3</td>\n",
       "        <td>Ivan Medina Rubio</td>\n",
       "        <td>ivanmedina@gmail.com</td>\n",
       "        <td>083-08-72</td>\n",
       "        <td>Javier Domenech</td>\n",
       "        <td>488-48-46</td>\n",
       "        <td>Toledo</td>\n",
       "    </tr>\n",
       "    <tr>\n",
       "        <td>4</td>\n",
       "        <td>Jan Vargas Santana</td>\n",
       "        <td>vargasjan@gmail.com</td>\n",
       "        <td>780-65-24</td>\n",
       "        <td></td>\n",
       "        <td></td>\n",
       "        <td>Madrid</td>\n",
       "    </tr>\n",
       "    <tr>\n",
       "        <td>5</td>\n",
       "        <td>Carlos Costa Guerrero</td>\n",
       "        <td>carloscostag@gmail.com</td>\n",
       "        <td>180-65-24</td>\n",
       "        <td>Cristian Jimenez</td>\n",
       "        <td>801-28-09</td>\n",
       "        <td>Madrid</td>\n",
       "    </tr>\n",
       "    <tr>\n",
       "        <td>6</td>\n",
       "        <td>Roberto Martin Ortega</td>\n",
       "        <td>robertmartin@gmail.com</td>\n",
       "        <td>742-63-27</td>\n",
       "        <td>Jorge Vila Gallardo</td>\n",
       "        <td>564-52-13</td>\n",
       "        <td>Madrid</td>\n",
       "    </tr>\n",
       "    <tr>\n",
       "        <td>7</td>\n",
       "        <td>Gabriel Gonzalez Ortega</td>\n",
       "        <td>gabogonzo@gmail.com</td>\n",
       "        <td>780-13-14</td>\n",
       "        <td>Miguel Bosch Parra</td>\n",
       "        <td>882-17-20</td>\n",
       "        <td>Madrid</td>\n",
       "    </tr>\n",
       "    <tr>\n",
       "        <td>8</td>\n",
       "        <td>Rayan Leon Ferrer</td>\n",
       "        <td>rayito@gmail.com</td>\n",
       "        <td>430-65-24</td>\n",
       "        <td>Santiago Perez Ramos</td>\n",
       "        <td>577-21-24</td>\n",
       "        <td>Madrid</td>\n",
       "    </tr>\n",
       "    <tr>\n",
       "        <td>9</td>\n",
       "        <td>Aitor Ruiz Sanchez</td>\n",
       "        <td>aitorsanchez@gmail.com</td>\n",
       "        <td>780-77-24</td>\n",
       "        <td>Gabriel Gonzalez Ortega</td>\n",
       "        <td>784-96-31</td>\n",
       "        <td>Madrid</td>\n",
       "    </tr>\n",
       "    <tr>\n",
       "        <td>10</td>\n",
       "        <td>Eric Rubio Carrasco</td>\n",
       "        <td>ericrubio@gmail.com</td>\n",
       "        <td>780-65-79</td>\n",
       "        <td>Cristian Jimenez Martinez</td>\n",
       "        <td>147-01-12</td>\n",
       "        <td>Madrid</td>\n",
       "    </tr>\n",
       "    <tr>\n",
       "        <td>11</td>\n",
       "        <td>Alberto Sanz Ruiz</td>\n",
       "        <td>albert@gmail.com</td>\n",
       "        <td>781-15-24</td>\n",
       "        <td>Gabriel Gonzalez Ortega</td>\n",
       "        <td>028-51-21</td>\n",
       "        <td>Madrid</td>\n",
       "    </tr>\n",
       "    <tr>\n",
       "        <td>12</td>\n",
       "        <td>Jesus Medina Hernandez</td>\n",
       "        <td>jmedinah@gmail.com</td>\n",
       "        <td>782-35-25</td>\n",
       "        <td>Vctor Gonzalez Castillo</td>\n",
       "        <td>661-85-12</td>\n",
       "        <td>Madrid</td>\n",
       "    </tr>\n",
       "    <tr>\n",
       "        <td>13</td>\n",
       "        <td>Pol Moya Pena</td>\n",
       "        <td>polmoya@gmail.com</td>\n",
       "        <td>780-25-24</td>\n",
       "        <td></td>\n",
       "        <td></td>\n",
       "        <td>Toledo</td>\n",
       "    </tr>\n",
       "    <tr>\n",
       "        <td>14</td>\n",
       "        <td>Jose Gallardo Rodriguez</td>\n",
       "        <td>josegallardo@gmail.com</td>\n",
       "        <td>783-65-11</td>\n",
       "        <td>Hector Martin Morales</td>\n",
       "        <td>867-97-99</td>\n",
       "        <td>Madrid</td>\n",
       "    </tr>\n",
       "    <tr>\n",
       "        <td>15</td>\n",
       "        <td>Manuel Angel Gil</td>\n",
       "        <td>manano@gmail.com</td>\n",
       "        <td>733-65-16</td>\n",
       "        <td>Hector Navarro</td>\n",
       "        <td>067-97-91</td>\n",
       "        <td>Madrid</td>\n",
       "    </tr>\n",
       "</table>"
      ],
      "text/plain": [
       "[(1, 'Mario Flores Gallardo', 'marioflores@gmail.com', '036-15-36', 'Aintzane Alvarez Iglesias', '210-35-57', 'Madrid'),\n",
       " (2, 'Arnau Medina Garcia', 'arnaumedina@gmail.com', '094-10-88', '', '', 'Madrid'),\n",
       " (3, 'Ivan Medina Rubio', 'ivanmedina@gmail.com', '083-08-72', 'Javier Domenech', '488-48-46', 'Toledo'),\n",
       " (4, 'Jan Vargas Santana', 'vargasjan@gmail.com', '780-65-24', '', '', 'Madrid'),\n",
       " (5, 'Carlos Costa Guerrero', 'carloscostag@gmail.com', '180-65-24', 'Cristian Jimenez', '801-28-09', 'Madrid'),\n",
       " (6, 'Roberto Martin Ortega', 'robertmartin@gmail.com', '742-63-27', 'Jorge Vila Gallardo', '564-52-13', 'Madrid'),\n",
       " (7, 'Gabriel Gonzalez Ortega', 'gabogonzo@gmail.com', '780-13-14', 'Miguel Bosch Parra', '882-17-20', 'Madrid'),\n",
       " (8, 'Rayan Leon Ferrer', 'rayito@gmail.com', '430-65-24', 'Santiago Perez Ramos', '577-21-24', 'Madrid'),\n",
       " (9, 'Aitor Ruiz Sanchez', 'aitorsanchez@gmail.com', '780-77-24', 'Gabriel Gonzalez Ortega', '784-96-31', 'Madrid'),\n",
       " (10, 'Eric Rubio Carrasco', 'ericrubio@gmail.com', '780-65-79', 'Cristian Jimenez Martinez', '147-01-12', 'Madrid'),\n",
       " (11, 'Alberto Sanz Ruiz', 'albert@gmail.com', '781-15-24', 'Gabriel Gonzalez Ortega', '028-51-21', 'Madrid'),\n",
       " (12, 'Jesus Medina Hernandez', 'jmedinah@gmail.com', '782-35-25', 'Vctor Gonzalez Castillo', '661-85-12', 'Madrid'),\n",
       " (13, 'Pol Moya Pena', 'polmoya@gmail.com', '780-25-24', '', '', 'Toledo'),\n",
       " (14, 'Jose Gallardo Rodriguez', 'josegallardo@gmail.com', '783-65-11', 'Hector Martin Morales', '867-97-99', 'Madrid'),\n",
       " (15, 'Manuel Angel Gil', 'manano@gmail.com', '733-65-16', 'Hector Navarro', '067-97-91', 'Madrid')]"
      ]
     },
     "execution_count": 14,
     "metadata": {},
     "output_type": "execute_result"
    }
   ],
   "source": [
    "%sql select * from cliente"
   ]
  },
  {
   "cell_type": "markdown",
   "metadata": {},
   "source": [
    "\n",
    "Ejercicio 2.\n",
    "\n",
    "Con el propósito actualizar la información de los clientes se quiere contactar a aquellos clientes que no tienen asociada una persona de contacto, para esto se pide que muestre de la tabla \"cliente\" los campos \"nombre\" y \"telefono\" de los clientes que no tienen un contacto registrado.\n"
   ]
  },
  {
   "cell_type": "code",
   "execution_count": 15,
   "metadata": {},
   "outputs": [
    {
     "name": "stdout",
     "output_type": "stream",
     "text": [
      " * sqlite:///love4pets.db\n",
      "Done.\n"
     ]
    },
    {
     "data": {
      "text/html": [
       "<table>\n",
       "    <tr>\n",
       "        <th>nombre</th>\n",
       "        <th>telefono</th>\n",
       "    </tr>\n",
       "</table>"
      ],
      "text/plain": [
       "[]"
      ]
     },
     "execution_count": 15,
     "metadata": {},
     "output_type": "execute_result"
    }
   ],
   "source": [
    "%sql select nombre, telefono from cliente where contacto is null"
   ]
  },
  {
   "cell_type": "code",
   "execution_count": 16,
   "metadata": {},
   "outputs": [
    {
     "name": "stdout",
     "output_type": "stream",
     "text": [
      " * sqlite:///love4pets.db\n",
      "(sqlite3.OperationalError) no such column: none\n",
      "[SQL: select nombre, telefono from cliente where contacto is none]\n",
      "(Background on this error at: http://sqlalche.me/e/e3q8)\n"
     ]
    }
   ],
   "source": [
    "%sql select nombre, telefono from cliente where contacto is none"
   ]
  },
  {
   "cell_type": "code",
   "execution_count": 17,
   "metadata": {},
   "outputs": [
    {
     "name": "stdout",
     "output_type": "stream",
     "text": [
      " * sqlite:///love4pets.db\n",
      "Done.\n"
     ]
    },
    {
     "data": {
      "text/html": [
       "<table>\n",
       "    <tr>\n",
       "        <th>nombre</th>\n",
       "        <th>telefono</th>\n",
       "    </tr>\n",
       "    <tr>\n",
       "        <td>Arnau Medina Garcia</td>\n",
       "        <td>094-10-88</td>\n",
       "    </tr>\n",
       "    <tr>\n",
       "        <td>Jan Vargas Santana</td>\n",
       "        <td>780-65-24</td>\n",
       "    </tr>\n",
       "    <tr>\n",
       "        <td>Pol Moya Pena</td>\n",
       "        <td>780-25-24</td>\n",
       "    </tr>\n",
       "</table>"
      ],
      "text/plain": [
       "[('Arnau Medina Garcia', '094-10-88'),\n",
       " ('Jan Vargas Santana', '780-65-24'),\n",
       " ('Pol Moya Pena', '780-25-24')]"
      ]
     },
     "execution_count": 17,
     "metadata": {},
     "output_type": "execute_result"
    }
   ],
   "source": [
    "%sql select nombre, telefono from cliente where contacto = ''"
   ]
  },
  {
   "cell_type": "markdown",
   "metadata": {},
   "source": [
    "\n",
    "Ejercicio 3.\n",
    "\n",
    "Un empleado de la empresa Love4Pets se dió cuenta que un cliente dejó por accidente su celular, el empleado recuerda que alguno de sus apellidos era \"Leon\".\n",
    "\n",
    "Se quiere que determinar a quien pertenece el celular extraviado, y en caso de ser posible avisar a su persona de contacto que el celular está a salvo y pueden pasar buscandolo en cualquier momento.\n",
    "\n",
    "Se sabe que la tabla \"cliente\" tiene un campo \"nombre\" el cual contiene nombres y apellidos, el campo \"contacto\" que tiene el nombre de la persona de contacto y el campo \"telefono_contacto\" que tiene el telefono de la persona de contacto.\n",
    "\n"
   ]
  },
  {
   "cell_type": "code",
   "execution_count": 19,
   "metadata": {},
   "outputs": [
    {
     "name": "stdout",
     "output_type": "stream",
     "text": [
      " * sqlite:///love4pets.db\n",
      "Done.\n"
     ]
    },
    {
     "data": {
      "text/html": [
       "<table>\n",
       "    <tr>\n",
       "        <th>cliente_id</th>\n",
       "        <th>nombre</th>\n",
       "        <th>email</th>\n",
       "        <th>telefono</th>\n",
       "        <th>contacto</th>\n",
       "        <th>telefono_contacto</th>\n",
       "        <th>ciudad</th>\n",
       "    </tr>\n",
       "    <tr>\n",
       "        <td>1</td>\n",
       "        <td>Mario Flores Gallardo</td>\n",
       "        <td>marioflores@gmail.com</td>\n",
       "        <td>036-15-36</td>\n",
       "        <td>Aintzane Alvarez Iglesias</td>\n",
       "        <td>210-35-57</td>\n",
       "        <td>Madrid</td>\n",
       "    </tr>\n",
       "    <tr>\n",
       "        <td>2</td>\n",
       "        <td>Arnau Medina Garcia</td>\n",
       "        <td>arnaumedina@gmail.com</td>\n",
       "        <td>094-10-88</td>\n",
       "        <td></td>\n",
       "        <td></td>\n",
       "        <td>Madrid</td>\n",
       "    </tr>\n",
       "    <tr>\n",
       "        <td>3</td>\n",
       "        <td>Ivan Medina Rubio</td>\n",
       "        <td>ivanmedina@gmail.com</td>\n",
       "        <td>083-08-72</td>\n",
       "        <td>Javier Domenech</td>\n",
       "        <td>488-48-46</td>\n",
       "        <td>Toledo</td>\n",
       "    </tr>\n",
       "    <tr>\n",
       "        <td>4</td>\n",
       "        <td>Jan Vargas Santana</td>\n",
       "        <td>vargasjan@gmail.com</td>\n",
       "        <td>780-65-24</td>\n",
       "        <td></td>\n",
       "        <td></td>\n",
       "        <td>Madrid</td>\n",
       "    </tr>\n",
       "    <tr>\n",
       "        <td>5</td>\n",
       "        <td>Carlos Costa Guerrero</td>\n",
       "        <td>carloscostag@gmail.com</td>\n",
       "        <td>180-65-24</td>\n",
       "        <td>Cristian Jimenez</td>\n",
       "        <td>801-28-09</td>\n",
       "        <td>Madrid</td>\n",
       "    </tr>\n",
       "    <tr>\n",
       "        <td>6</td>\n",
       "        <td>Roberto Martin Ortega</td>\n",
       "        <td>robertmartin@gmail.com</td>\n",
       "        <td>742-63-27</td>\n",
       "        <td>Jorge Vila Gallardo</td>\n",
       "        <td>564-52-13</td>\n",
       "        <td>Madrid</td>\n",
       "    </tr>\n",
       "    <tr>\n",
       "        <td>7</td>\n",
       "        <td>Gabriel Gonzalez Ortega</td>\n",
       "        <td>gabogonzo@gmail.com</td>\n",
       "        <td>780-13-14</td>\n",
       "        <td>Miguel Bosch Parra</td>\n",
       "        <td>882-17-20</td>\n",
       "        <td>Madrid</td>\n",
       "    </tr>\n",
       "    <tr>\n",
       "        <td>8</td>\n",
       "        <td>Rayan Leon Ferrer</td>\n",
       "        <td>rayito@gmail.com</td>\n",
       "        <td>430-65-24</td>\n",
       "        <td>Santiago Perez Ramos</td>\n",
       "        <td>577-21-24</td>\n",
       "        <td>Madrid</td>\n",
       "    </tr>\n",
       "    <tr>\n",
       "        <td>9</td>\n",
       "        <td>Aitor Ruiz Sanchez</td>\n",
       "        <td>aitorsanchez@gmail.com</td>\n",
       "        <td>780-77-24</td>\n",
       "        <td>Gabriel Gonzalez Ortega</td>\n",
       "        <td>784-96-31</td>\n",
       "        <td>Madrid</td>\n",
       "    </tr>\n",
       "    <tr>\n",
       "        <td>10</td>\n",
       "        <td>Eric Rubio Carrasco</td>\n",
       "        <td>ericrubio@gmail.com</td>\n",
       "        <td>780-65-79</td>\n",
       "        <td>Cristian Jimenez Martinez</td>\n",
       "        <td>147-01-12</td>\n",
       "        <td>Madrid</td>\n",
       "    </tr>\n",
       "    <tr>\n",
       "        <td>11</td>\n",
       "        <td>Alberto Sanz Ruiz</td>\n",
       "        <td>albert@gmail.com</td>\n",
       "        <td>781-15-24</td>\n",
       "        <td>Gabriel Gonzalez Ortega</td>\n",
       "        <td>028-51-21</td>\n",
       "        <td>Madrid</td>\n",
       "    </tr>\n",
       "    <tr>\n",
       "        <td>12</td>\n",
       "        <td>Jesus Medina Hernandez</td>\n",
       "        <td>jmedinah@gmail.com</td>\n",
       "        <td>782-35-25</td>\n",
       "        <td>Vctor Gonzalez Castillo</td>\n",
       "        <td>661-85-12</td>\n",
       "        <td>Madrid</td>\n",
       "    </tr>\n",
       "    <tr>\n",
       "        <td>13</td>\n",
       "        <td>Pol Moya Pena</td>\n",
       "        <td>polmoya@gmail.com</td>\n",
       "        <td>780-25-24</td>\n",
       "        <td></td>\n",
       "        <td></td>\n",
       "        <td>Toledo</td>\n",
       "    </tr>\n",
       "    <tr>\n",
       "        <td>14</td>\n",
       "        <td>Jose Gallardo Rodriguez</td>\n",
       "        <td>josegallardo@gmail.com</td>\n",
       "        <td>783-65-11</td>\n",
       "        <td>Hector Martin Morales</td>\n",
       "        <td>867-97-99</td>\n",
       "        <td>Madrid</td>\n",
       "    </tr>\n",
       "    <tr>\n",
       "        <td>15</td>\n",
       "        <td>Manuel Angel Gil</td>\n",
       "        <td>manano@gmail.com</td>\n",
       "        <td>733-65-16</td>\n",
       "        <td>Hector Navarro</td>\n",
       "        <td>067-97-91</td>\n",
       "        <td>Madrid</td>\n",
       "    </tr>\n",
       "</table>"
      ],
      "text/plain": [
       "[(1, 'Mario Flores Gallardo', 'marioflores@gmail.com', '036-15-36', 'Aintzane Alvarez Iglesias', '210-35-57', 'Madrid'),\n",
       " (2, 'Arnau Medina Garcia', 'arnaumedina@gmail.com', '094-10-88', '', '', 'Madrid'),\n",
       " (3, 'Ivan Medina Rubio', 'ivanmedina@gmail.com', '083-08-72', 'Javier Domenech', '488-48-46', 'Toledo'),\n",
       " (4, 'Jan Vargas Santana', 'vargasjan@gmail.com', '780-65-24', '', '', 'Madrid'),\n",
       " (5, 'Carlos Costa Guerrero', 'carloscostag@gmail.com', '180-65-24', 'Cristian Jimenez', '801-28-09', 'Madrid'),\n",
       " (6, 'Roberto Martin Ortega', 'robertmartin@gmail.com', '742-63-27', 'Jorge Vila Gallardo', '564-52-13', 'Madrid'),\n",
       " (7, 'Gabriel Gonzalez Ortega', 'gabogonzo@gmail.com', '780-13-14', 'Miguel Bosch Parra', '882-17-20', 'Madrid'),\n",
       " (8, 'Rayan Leon Ferrer', 'rayito@gmail.com', '430-65-24', 'Santiago Perez Ramos', '577-21-24', 'Madrid'),\n",
       " (9, 'Aitor Ruiz Sanchez', 'aitorsanchez@gmail.com', '780-77-24', 'Gabriel Gonzalez Ortega', '784-96-31', 'Madrid'),\n",
       " (10, 'Eric Rubio Carrasco', 'ericrubio@gmail.com', '780-65-79', 'Cristian Jimenez Martinez', '147-01-12', 'Madrid'),\n",
       " (11, 'Alberto Sanz Ruiz', 'albert@gmail.com', '781-15-24', 'Gabriel Gonzalez Ortega', '028-51-21', 'Madrid'),\n",
       " (12, 'Jesus Medina Hernandez', 'jmedinah@gmail.com', '782-35-25', 'Vctor Gonzalez Castillo', '661-85-12', 'Madrid'),\n",
       " (13, 'Pol Moya Pena', 'polmoya@gmail.com', '780-25-24', '', '', 'Toledo'),\n",
       " (14, 'Jose Gallardo Rodriguez', 'josegallardo@gmail.com', '783-65-11', 'Hector Martin Morales', '867-97-99', 'Madrid'),\n",
       " (15, 'Manuel Angel Gil', 'manano@gmail.com', '733-65-16', 'Hector Navarro', '067-97-91', 'Madrid')]"
      ]
     },
     "execution_count": 19,
     "metadata": {},
     "output_type": "execute_result"
    }
   ],
   "source": [
    "%sql select * from cliente"
   ]
  },
  {
   "cell_type": "code",
   "execution_count": 21,
   "metadata": {},
   "outputs": [
    {
     "name": "stdout",
     "output_type": "stream",
     "text": [
      " * sqlite:///love4pets.db\n",
      "Done.\n"
     ]
    },
    {
     "data": {
      "text/html": [
       "<table>\n",
       "    <tr>\n",
       "        <th>nombre</th>\n",
       "        <th>contacto</th>\n",
       "        <th>telefono_contacto</th>\n",
       "    </tr>\n",
       "    <tr>\n",
       "        <td>Rayan Leon Ferrer</td>\n",
       "        <td>Santiago Perez Ramos</td>\n",
       "        <td>577-21-24</td>\n",
       "    </tr>\n",
       "</table>"
      ],
      "text/plain": [
       "[('Rayan Leon Ferrer', 'Santiago Perez Ramos', '577-21-24')]"
      ]
     },
     "execution_count": 21,
     "metadata": {},
     "output_type": "execute_result"
    }
   ],
   "source": [
    "%sql select nombre, contacto, telefono_contacto from cliente where nombre like \"%Leon%\""
   ]
  },
  {
   "cell_type": "markdown",
   "metadata": {},
   "source": [
    "<div style=\"background-color: #81F781\">\n",
    " <h1> Ejercicio 4. </h1><br>\n",
    "      La empresa Love4Pets considera hacer un descuento sobre los productos que cuestan entre 10 y 20 euros, y complementos vitamínicos. \n",
    "      \n",
    "   Se requiere que liste las columnas \"nombre\", \"descripcion\", \"precio\" de productos a los que debe ser aplicado el descuento. ( asuma que los productos se encuentran en la tabla \"producto\" )\n",
    "   \n",
    "   Asuma que el producto vitaminico no lleva acentos, generalmente estos productos tienen la palabra vitamina en la **\"descripcion\"** pero podria ser alguna variante como vitaminico o comenzar por mayusculas, el departamento de informática recomendó usar la función Like para esta busqueda.\n",
    "   \n",
    "   <br><br>\n",
    " \n",
    "</div>"
   ]
  },
  {
   "cell_type": "code",
   "execution_count": 32,
   "metadata": {},
   "outputs": [
    {
     "name": "stdout",
     "output_type": "stream",
     "text": [
      " * sqlite:///love4pets.db\n",
      "Done.\n"
     ]
    },
    {
     "data": {
      "text/html": [
       "<table>\n",
       "    <tr>\n",
       "        <th>cid</th>\n",
       "        <th>name</th>\n",
       "        <th>type</th>\n",
       "        <th>notnull</th>\n",
       "        <th>dflt_value</th>\n",
       "        <th>pk</th>\n",
       "    </tr>\n",
       "    <tr>\n",
       "        <td>0</td>\n",
       "        <td>producto_id</td>\n",
       "        <td>INTEGER</td>\n",
       "        <td>1</td>\n",
       "        <td>None</td>\n",
       "        <td>1</td>\n",
       "    </tr>\n",
       "    <tr>\n",
       "        <td>1</td>\n",
       "        <td>nombre</td>\n",
       "        <td>TEXT</td>\n",
       "        <td>1</td>\n",
       "        <td>None</td>\n",
       "        <td>0</td>\n",
       "    </tr>\n",
       "    <tr>\n",
       "        <td>2</td>\n",
       "        <td>descripcion</td>\n",
       "        <td>TEXT</td>\n",
       "        <td>1</td>\n",
       "        <td>None</td>\n",
       "        <td>0</td>\n",
       "    </tr>\n",
       "    <tr>\n",
       "        <td>3</td>\n",
       "        <td>precio</td>\n",
       "        <td>INTEGER</td>\n",
       "        <td>1</td>\n",
       "        <td>None</td>\n",
       "        <td>0</td>\n",
       "    </tr>\n",
       "</table>"
      ],
      "text/plain": [
       "[(0, 'producto_id', 'INTEGER', 1, None, 1),\n",
       " (1, 'nombre', 'TEXT', 1, None, 0),\n",
       " (2, 'descripcion', 'TEXT', 1, None, 0),\n",
       " (3, 'precio', 'INTEGER', 1, None, 0)]"
      ]
     },
     "execution_count": 32,
     "metadata": {},
     "output_type": "execute_result"
    }
   ],
   "source": [
    "%sql pragma table_info(producto)"
   ]
  },
  {
   "cell_type": "code",
   "execution_count": 34,
   "metadata": {},
   "outputs": [
    {
     "name": "stdout",
     "output_type": "stream",
     "text": [
      " * sqlite:///love4pets.db\n",
      "Done.\n"
     ]
    },
    {
     "data": {
      "text/html": [
       "<table>\n",
       "    <tr>\n",
       "        <th>nombre</th>\n",
       "        <th>descripcion</th>\n",
       "        <th>precio</th>\n",
       "    </tr>\n",
       "    <tr>\n",
       "        <td>Champu Mimadito</td>\n",
       "        <td>Champu neutro para mascotas</td>\n",
       "        <td>7</td>\n",
       "    </tr>\n",
       "    <tr>\n",
       "        <td>Vitaminas</td>\n",
       "        <td>Complemento vitaminico</td>\n",
       "        <td>5</td>\n",
       "    </tr>\n",
       "    <tr>\n",
       "        <td>Antipulgas</td>\n",
       "        <td>Liquido antipulgas</td>\n",
       "        <td>3</td>\n",
       "    </tr>\n",
       "    <tr>\n",
       "        <td>Perrarina</td>\n",
       "        <td>Huesos</td>\n",
       "        <td>12</td>\n",
       "    </tr>\n",
       "    <tr>\n",
       "        <td>Gatarina</td>\n",
       "        <td>Catspettito</td>\n",
       "        <td>13</td>\n",
       "    </tr>\n",
       "    <tr>\n",
       "        <td>Peine N7</td>\n",
       "        <td>Peine para perros numero 7</td>\n",
       "        <td>3</td>\n",
       "    </tr>\n",
       "    <tr>\n",
       "        <td>peluqueria</td>\n",
       "        <td>Corte de cabello para perros</td>\n",
       "        <td>3</td>\n",
       "    </tr>\n",
       "    <tr>\n",
       "        <td>Consulta</td>\n",
       "        <td>Consulta veterinaria</td>\n",
       "        <td>15</td>\n",
       "    </tr>\n",
       "</table>"
      ],
      "text/plain": [
       "[('Champu Mimadito', 'Champu neutro para mascotas', 7),\n",
       " ('Vitaminas', 'Complemento vitaminico', 5),\n",
       " ('Antipulgas', 'Liquido antipulgas', 3),\n",
       " ('Perrarina', 'Huesos', 12),\n",
       " ('Gatarina', 'Catspettito', 13),\n",
       " ('Peine N7', 'Peine para perros numero 7', 3),\n",
       " ('peluqueria', 'Corte de cabello para perros', 3),\n",
       " ('Consulta', 'Consulta veterinaria', 15)]"
      ]
     },
     "execution_count": 34,
     "metadata": {},
     "output_type": "execute_result"
    }
   ],
   "source": [
    "%sql select nombre, descripcion, precio from producto"
   ]
  },
  {
   "cell_type": "code",
   "execution_count": 43,
   "metadata": {},
   "outputs": [
    {
     "name": "stdout",
     "output_type": "stream",
     "text": [
      " * sqlite:///love4pets.db\n",
      "Done.\n"
     ]
    },
    {
     "data": {
      "text/html": [
       "<table>\n",
       "    <tr>\n",
       "        <th>nombre</th>\n",
       "        <th>descripcion</th>\n",
       "        <th>precio</th>\n",
       "    </tr>\n",
       "    <tr>\n",
       "        <td>Vitaminas</td>\n",
       "        <td>Complemento vitaminico</td>\n",
       "        <td>5</td>\n",
       "    </tr>\n",
       "    <tr>\n",
       "        <td>Perrarina</td>\n",
       "        <td>Huesos</td>\n",
       "        <td>12</td>\n",
       "    </tr>\n",
       "    <tr>\n",
       "        <td>Gatarina</td>\n",
       "        <td>Catspettito</td>\n",
       "        <td>13</td>\n",
       "    </tr>\n",
       "    <tr>\n",
       "        <td>Consulta</td>\n",
       "        <td>Consulta veterinaria</td>\n",
       "        <td>15</td>\n",
       "    </tr>\n",
       "</table>"
      ],
      "text/plain": [
       "[('Vitaminas', 'Complemento vitaminico', 5),\n",
       " ('Perrarina', 'Huesos', 12),\n",
       " ('Gatarina', 'Catspettito', 13),\n",
       " ('Consulta', 'Consulta veterinaria', 15)]"
      ]
     },
     "execution_count": 43,
     "metadata": {},
     "output_type": "execute_result"
    }
   ],
   "source": [
    "%sql select nombre, descripcion, precio from producto where precio between 10 and 20 or descripcion like \"%vitam%\""
   ]
  },
  {
   "cell_type": "markdown",
   "metadata": {},
   "source": [
    " Ejercicio 5. ¶\n",
    "\n",
    "La empresa Love4Pets esta considerando realizar un aumento.\n",
    "\n",
    "Se requiere que indique cual es el menor sueldo que está pagando la empresa. "
   ]
  },
  {
   "cell_type": "code",
   "execution_count": 44,
   "metadata": {},
   "outputs": [
    {
     "name": "stdout",
     "output_type": "stream",
     "text": [
      " * sqlite:///love4pets.db\n",
      "Done.\n"
     ]
    },
    {
     "data": {
      "text/html": [
       "<table>\n",
       "    <tr>\n",
       "        <th>cid</th>\n",
       "        <th>name</th>\n",
       "        <th>type</th>\n",
       "        <th>notnull</th>\n",
       "        <th>dflt_value</th>\n",
       "        <th>pk</th>\n",
       "    </tr>\n",
       "    <tr>\n",
       "        <td>0</td>\n",
       "        <td>empleado_id</td>\n",
       "        <td>INTEGER</td>\n",
       "        <td>1</td>\n",
       "        <td>None</td>\n",
       "        <td>1</td>\n",
       "    </tr>\n",
       "    <tr>\n",
       "        <td>1</td>\n",
       "        <td>nombre</td>\n",
       "        <td>TEXT</td>\n",
       "        <td>1</td>\n",
       "        <td>None</td>\n",
       "        <td>0</td>\n",
       "    </tr>\n",
       "    <tr>\n",
       "        <td>2</td>\n",
       "        <td>email</td>\n",
       "        <td>TEXT</td>\n",
       "        <td>0</td>\n",
       "        <td>None</td>\n",
       "        <td>0</td>\n",
       "    </tr>\n",
       "    <tr>\n",
       "        <td>3</td>\n",
       "        <td>telefono</td>\n",
       "        <td>TEXT</td>\n",
       "        <td>0</td>\n",
       "        <td>None</td>\n",
       "        <td>0</td>\n",
       "    </tr>\n",
       "    <tr>\n",
       "        <td>4</td>\n",
       "        <td>salario</td>\n",
       "        <td>INTEGER</td>\n",
       "        <td>1</td>\n",
       "        <td>None</td>\n",
       "        <td>0</td>\n",
       "    </tr>\n",
       "    <tr>\n",
       "        <td>5</td>\n",
       "        <td>fecha_ingreso</td>\n",
       "        <td>DATETIME</td>\n",
       "        <td>1</td>\n",
       "        <td>CURRENT_DATE</td>\n",
       "        <td>0</td>\n",
       "    </tr>\n",
       "    <tr>\n",
       "        <td>6</td>\n",
       "        <td>departamento_id</td>\n",
       "        <td>INTEGER</td>\n",
       "        <td>0</td>\n",
       "        <td>None</td>\n",
       "        <td>0</td>\n",
       "    </tr>\n",
       "</table>"
      ],
      "text/plain": [
       "[(0, 'empleado_id', 'INTEGER', 1, None, 1),\n",
       " (1, 'nombre', 'TEXT', 1, None, 0),\n",
       " (2, 'email', 'TEXT', 0, None, 0),\n",
       " (3, 'telefono', 'TEXT', 0, None, 0),\n",
       " (4, 'salario', 'INTEGER', 1, None, 0),\n",
       " (5, 'fecha_ingreso', 'DATETIME', 1, 'CURRENT_DATE', 0),\n",
       " (6, 'departamento_id', 'INTEGER', 0, None, 0)]"
      ]
     },
     "execution_count": 44,
     "metadata": {},
     "output_type": "execute_result"
    }
   ],
   "source": [
    "%sql PRAGMA table_info(empleado)"
   ]
  },
  {
   "cell_type": "code",
   "execution_count": 46,
   "metadata": {},
   "outputs": [
    {
     "name": "stdout",
     "output_type": "stream",
     "text": [
      " * sqlite:///love4pets.db\n",
      "Done.\n"
     ]
    },
    {
     "data": {
      "text/html": [
       "<table>\n",
       "    <tr>\n",
       "        <th>Salario mínimo</th>\n",
       "    </tr>\n",
       "    <tr>\n",
       "        <td>1000</td>\n",
       "    </tr>\n",
       "</table>"
      ],
      "text/plain": [
       "[(1000,)]"
      ]
     },
     "execution_count": 46,
     "metadata": {},
     "output_type": "execute_result"
    }
   ],
   "source": [
    "%sql select MIN(salario) as 'Salario mínimo' from empleado "
   ]
  },
  {
   "cell_type": "markdown",
   "metadata": {},
   "source": [
    "<div style=\"background-color: #81F781\">\n",
    " <h1> Ejercicio 6. </h1><br>\n",
    "    La empresa Love4Pets continúa estudiando un ajuste en los salarios de los empleados, por lo que se quiere conocer el presupuesto total requerido para el pago de los salarios.\n",
    " <br><br>"
   ]
  },
  {
   "cell_type": "code",
   "execution_count": 47,
   "metadata": {},
   "outputs": [
    {
     "name": "stdout",
     "output_type": "stream",
     "text": [
      " * sqlite:///love4pets.db\n",
      "Done.\n"
     ]
    },
    {
     "data": {
      "text/html": [
       "<table>\n",
       "    <tr>\n",
       "        <th>suma de todos los sueldos</th>\n",
       "    </tr>\n",
       "    <tr>\n",
       "        <td>17500</td>\n",
       "    </tr>\n",
       "</table>"
      ],
      "text/plain": [
       "[(17500,)]"
      ]
     },
     "execution_count": 47,
     "metadata": {},
     "output_type": "execute_result"
    }
   ],
   "source": [
    "%sql select SUM(salario) as 'suma de todos los sueldos' from empleado "
   ]
  },
  {
   "cell_type": "markdown",
   "metadata": {},
   "source": [
    "<div style=\"background-color: #81F781\">\n",
    " <h1> Ejercicio 7. </h1><br>\n",
    "   Considerando la tabla \"cliente\" y la tabla \"mascota\" las cuales tienen una relación uno a muchos, como se muestra a continuación.\n",
    "   \n",
    "   ![relacionclientemascota.png](attachment:relacionclientemascota.png)\n",
    "    \n",
    " Indique los clientes que no tienen mascota registrada.\n",
    " <br><br>\n",
    "</div>"
   ]
  },
  {
   "cell_type": "code",
   "execution_count": 54,
   "metadata": {},
   "outputs": [
    {
     "name": "stdout",
     "output_type": "stream",
     "text": [
      " * sqlite:///love4pets.db\n",
      "Done.\n"
     ]
    },
    {
     "data": {
      "text/html": [
       "<table>\n",
       "    <tr>\n",
       "        <th>cliente</th>\n",
       "        <th>mascota</th>\n",
       "    </tr>\n",
       "    <tr>\n",
       "        <td>Mario Flores Gallardo</td>\n",
       "        <td>None</td>\n",
       "    </tr>\n",
       "    <tr>\n",
       "        <td>Jan Vargas Santana</td>\n",
       "        <td>None</td>\n",
       "    </tr>\n",
       "    <tr>\n",
       "        <td>Aitor Ruiz Sanchez</td>\n",
       "        <td>None</td>\n",
       "    </tr>\n",
       "    <tr>\n",
       "        <td>Eric Rubio Carrasco</td>\n",
       "        <td>None</td>\n",
       "    </tr>\n",
       "    <tr>\n",
       "        <td>Jesus Medina Hernandez</td>\n",
       "        <td>None</td>\n",
       "    </tr>\n",
       "    <tr>\n",
       "        <td>Pol Moya Pena</td>\n",
       "        <td>None</td>\n",
       "    </tr>\n",
       "    <tr>\n",
       "        <td>Manuel Angel Gil</td>\n",
       "        <td>None</td>\n",
       "    </tr>\n",
       "</table>"
      ],
      "text/plain": [
       "[('Mario Flores Gallardo', None),\n",
       " ('Jan Vargas Santana', None),\n",
       " ('Aitor Ruiz Sanchez', None),\n",
       " ('Eric Rubio Carrasco', None),\n",
       " ('Jesus Medina Hernandez', None),\n",
       " ('Pol Moya Pena', None),\n",
       " ('Manuel Angel Gil', None)]"
      ]
     },
     "execution_count": 54,
     "metadata": {},
     "output_type": "execute_result"
    }
   ],
   "source": [
    "%%sql \n",
    "select cliente.nombre as \"cliente\", mascota.nombre as \"mascota\" from cliente\n",
    "left join \n",
    "mascota on cliente.cliente_id = mascota.cliente_id where mascota.nombre is null"
   ]
  },
  {
   "cell_type": "code",
   "execution_count": 52,
   "metadata": {},
   "outputs": [
    {
     "name": "stdout",
     "output_type": "stream",
     "text": [
      " * sqlite:///love4pets.db\n",
      "Done.\n"
     ]
    },
    {
     "data": {
      "text/html": [
       "<table>\n",
       "    <tr>\n",
       "        <th>cid</th>\n",
       "        <th>name</th>\n",
       "        <th>type</th>\n",
       "        <th>notnull</th>\n",
       "        <th>dflt_value</th>\n",
       "        <th>pk</th>\n",
       "    </tr>\n",
       "    <tr>\n",
       "        <td>0</td>\n",
       "        <td>cliente_id</td>\n",
       "        <td>INTEGER</td>\n",
       "        <td>1</td>\n",
       "        <td>None</td>\n",
       "        <td>1</td>\n",
       "    </tr>\n",
       "    <tr>\n",
       "        <td>1</td>\n",
       "        <td>nombre</td>\n",
       "        <td>TEXT</td>\n",
       "        <td>1</td>\n",
       "        <td>None</td>\n",
       "        <td>0</td>\n",
       "    </tr>\n",
       "    <tr>\n",
       "        <td>2</td>\n",
       "        <td>email</td>\n",
       "        <td>TEXT</td>\n",
       "        <td>0</td>\n",
       "        <td>None</td>\n",
       "        <td>0</td>\n",
       "    </tr>\n",
       "    <tr>\n",
       "        <td>3</td>\n",
       "        <td>telefono</td>\n",
       "        <td>TEXT</td>\n",
       "        <td>1</td>\n",
       "        <td>None</td>\n",
       "        <td>0</td>\n",
       "    </tr>\n",
       "    <tr>\n",
       "        <td>4</td>\n",
       "        <td>contacto</td>\n",
       "        <td>TEXT</td>\n",
       "        <td>0</td>\n",
       "        <td>None</td>\n",
       "        <td>0</td>\n",
       "    </tr>\n",
       "    <tr>\n",
       "        <td>5</td>\n",
       "        <td>telefono_contacto</td>\n",
       "        <td>TEXT</td>\n",
       "        <td>0</td>\n",
       "        <td>None</td>\n",
       "        <td>0</td>\n",
       "    </tr>\n",
       "    <tr>\n",
       "        <td>6</td>\n",
       "        <td>ciudad</td>\n",
       "        <td>TEXT</td>\n",
       "        <td>1</td>\n",
       "        <td>None</td>\n",
       "        <td>0</td>\n",
       "    </tr>\n",
       "</table>"
      ],
      "text/plain": [
       "[(0, 'cliente_id', 'INTEGER', 1, None, 1),\n",
       " (1, 'nombre', 'TEXT', 1, None, 0),\n",
       " (2, 'email', 'TEXT', 0, None, 0),\n",
       " (3, 'telefono', 'TEXT', 1, None, 0),\n",
       " (4, 'contacto', 'TEXT', 0, None, 0),\n",
       " (5, 'telefono_contacto', 'TEXT', 0, None, 0),\n",
       " (6, 'ciudad', 'TEXT', 1, None, 0)]"
      ]
     },
     "execution_count": 52,
     "metadata": {},
     "output_type": "execute_result"
    }
   ],
   "source": [
    "%sql PRAGMA table_info(cliente)"
   ]
  },
  {
   "cell_type": "code",
   "execution_count": 53,
   "metadata": {},
   "outputs": [
    {
     "name": "stdout",
     "output_type": "stream",
     "text": [
      " * sqlite:///love4pets.db\n",
      "Done.\n"
     ]
    },
    {
     "data": {
      "text/html": [
       "<table>\n",
       "    <tr>\n",
       "        <th>cid</th>\n",
       "        <th>name</th>\n",
       "        <th>type</th>\n",
       "        <th>notnull</th>\n",
       "        <th>dflt_value</th>\n",
       "        <th>pk</th>\n",
       "    </tr>\n",
       "    <tr>\n",
       "        <td>0</td>\n",
       "        <td>mascota_id</td>\n",
       "        <td>INTEGER</td>\n",
       "        <td>1</td>\n",
       "        <td>None</td>\n",
       "        <td>1</td>\n",
       "    </tr>\n",
       "    <tr>\n",
       "        <td>1</td>\n",
       "        <td>nombre</td>\n",
       "        <td>TEXT</td>\n",
       "        <td>1</td>\n",
       "        <td>None</td>\n",
       "        <td>0</td>\n",
       "    </tr>\n",
       "    <tr>\n",
       "        <td>2</td>\n",
       "        <td>cliente_id</td>\n",
       "        <td>INTEGER</td>\n",
       "        <td>1</td>\n",
       "        <td>None</td>\n",
       "        <td>0</td>\n",
       "    </tr>\n",
       "    <tr>\n",
       "        <td>3</td>\n",
       "        <td>especie</td>\n",
       "        <td>TEXT</td>\n",
       "        <td>1</td>\n",
       "        <td>None</td>\n",
       "        <td>0</td>\n",
       "    </tr>\n",
       "    <tr>\n",
       "        <td>4</td>\n",
       "        <td>raza</td>\n",
       "        <td>TEXT</td>\n",
       "        <td>1</td>\n",
       "        <td>None</td>\n",
       "        <td>0</td>\n",
       "    </tr>\n",
       "    <tr>\n",
       "        <td>5</td>\n",
       "        <td>fecha_nacimiento</td>\n",
       "        <td>DATETIME</td>\n",
       "        <td>1</td>\n",
       "        <td>CURRENT_DATE</td>\n",
       "        <td>0</td>\n",
       "    </tr>\n",
       "</table>"
      ],
      "text/plain": [
       "[(0, 'mascota_id', 'INTEGER', 1, None, 1),\n",
       " (1, 'nombre', 'TEXT', 1, None, 0),\n",
       " (2, 'cliente_id', 'INTEGER', 1, None, 0),\n",
       " (3, 'especie', 'TEXT', 1, None, 0),\n",
       " (4, 'raza', 'TEXT', 1, None, 0),\n",
       " (5, 'fecha_nacimiento', 'DATETIME', 1, 'CURRENT_DATE', 0)]"
      ]
     },
     "execution_count": 53,
     "metadata": {},
     "output_type": "execute_result"
    }
   ],
   "source": [
    "%sql PRAGMA table_info(mascota)"
   ]
  },
  {
   "cell_type": "code",
   "execution_count": null,
   "metadata": {},
   "outputs": [],
   "source": []
  }
 ],
 "metadata": {
  "kernelspec": {
   "display_name": "Python 3",
   "language": "python",
   "name": "python3"
  },
  "language_info": {
   "codemirror_mode": {
    "name": "ipython",
    "version": 3
   },
   "file_extension": ".py",
   "mimetype": "text/x-python",
   "name": "python",
   "nbconvert_exporter": "python",
   "pygments_lexer": "ipython3",
   "version": "3.8.10"
  }
 },
 "nbformat": 4,
 "nbformat_minor": 4
}
