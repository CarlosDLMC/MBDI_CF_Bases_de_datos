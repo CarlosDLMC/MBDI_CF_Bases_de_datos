{
 "cells": [
  {
   "cell_type": "code",
   "execution_count": 1,
   "metadata": {},
   "outputs": [],
   "source": [
    "from pymongo import MongoClient\n",
    "client = MongoClient('mongodb://localhost:27017/')\n",
    "db = client['love4pets']"
   ]
  },
  {
   "cell_type": "code",
   "execution_count": 2,
   "metadata": {},
   "outputs": [],
   "source": [
    "colecciones = db.list_collection_names()"
   ]
  },
  {
   "cell_type": "code",
   "execution_count": 3,
   "metadata": {},
   "outputs": [
    {
     "data": {
      "text/plain": [
       "['proveedor',\n",
       " 'suministro',\n",
       " 'detalle_orden',\n",
       " 'departamento',\n",
       " 'orden',\n",
       " 'empleado',\n",
       " 'mascota',\n",
       " 'producto',\n",
       " 'cliente']"
      ]
     },
     "execution_count": 3,
     "metadata": {},
     "output_type": "execute_result"
    }
   ],
   "source": [
    "colecciones"
   ]
  },
  {
   "cell_type": "code",
   "execution_count": 4,
   "metadata": {},
   "outputs": [],
   "source": [
    "def show_table(collection):\n",
    "    print(f\"Objetos en la colección \\\"{collection}\\\":\\n\")\n",
    "    col = db[collection]\n",
    "    documentos = col.find()\n",
    "    for document in documentos:\n",
    "        print(document)"
   ]
  },
  {
   "cell_type": "code",
   "execution_count": 5,
   "metadata": {},
   "outputs": [
    {
     "name": "stdout",
     "output_type": "stream",
     "text": [
      "Objetos en la colección \"suministro\":\n",
      "\n",
      "{'_id': ObjectId('616476771e51bbaf950dfd70'), 'proveedor_id': 3, 'producto_id': 1, 'cantidad': 30, 'fecha': '2015-01-01 00:00:000'}\n",
      "{'_id': ObjectId('616476771e51bbaf950dfd71'), 'proveedor_id': 3, 'producto_id': 2, 'cantidad': 10, 'fecha': '2015-01-01 00:00:000'}\n",
      "{'_id': ObjectId('616476771e51bbaf950dfd72'), 'proveedor_id': 2, 'producto_id': 3, 'cantidad': 5, 'fecha': '2015-01-01 00:00:000'}\n",
      "{'_id': ObjectId('616476771e51bbaf950dfd73'), 'proveedor_id': 2, 'producto_id': 4, 'cantidad': 5, 'fecha': '2015-01-01 00:00:000'}\n",
      "{'_id': ObjectId('616476771e51bbaf950dfd74'), 'proveedor_id': 1, 'producto_id': 5, 'cantidad': 5, 'fecha': '2015-01-01 00:00:000'}\n",
      "{'_id': ObjectId('616476771e51bbaf950dfd75'), 'proveedor_id': 4, 'producto_id': 6, 'cantidad': 5, 'fecha': '2015-01-01 00:00:000'}\n"
     ]
    }
   ],
   "source": [
    "show_table(colecciones[1])"
   ]
  }
 ],
 "metadata": {
  "kernelspec": {
   "display_name": "Python 3",
   "language": "python",
   "name": "python3"
  },
  "language_info": {
   "codemirror_mode": {
    "name": "ipython",
    "version": 3
   },
   "file_extension": ".py",
   "mimetype": "text/x-python",
   "name": "python",
   "nbconvert_exporter": "python",
   "pygments_lexer": "ipython3",
   "version": "3.8.10"
  }
 },
 "nbformat": 4,
 "nbformat_minor": 4
}
