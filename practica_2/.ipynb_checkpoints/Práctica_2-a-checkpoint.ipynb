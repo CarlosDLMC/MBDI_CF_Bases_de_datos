{
 "cells": [
  {
   "cell_type": "markdown",
   "metadata": {},
   "source": [
    "Buenos días/tardes/noches.\n",
    "En este archivo voy a explicar cómo he llevado a cabo la migración de la base de datos del archivo .db a mongodb.\n",
    "Como podrá comprobar, lo estoy realizando en un jupyter notebook exportado a pdf, ya que me parece la mejor forma de\n",
    "compartir código y texto explicativo a la vez"
   ]
  },
  {
   "cell_type": "markdown",
   "metadata": {},
   "source": [
    "Lo primero que hay que hacer es importar las bibliotecas convenientes.\n",
    "Sqlite3 nos permitirá establecer conexión con la base de datos .db.\n",
    "Pandas nos permitirá hacer consultas en lenguaje SQL a esta base de datos.\n",
    "Pymongo nos permitirá conectarnos a nuestro servidor local mongod y crear ahí una base de datos."
   ]
  },
  {
   "cell_type": "code",
   "execution_count": 1,
   "metadata": {},
   "outputs": [],
   "source": [
    "import sqlite3\n",
    "from pandas import read_sql_query\n",
    "from pymongo import MongoClient"
   ]
  },
  {
   "cell_type": "markdown",
   "metadata": {},
   "source": [
    "El siguiente paso es obtener datos de la base de datos. \n",
    "Para tenerlo todo más ordenado, lo primero que haremos será hacer una consulta que nos permita obtener el nombre de\n",
    "todas las tablas. \n",
    "Una vez hecho esto, para cada tabla hacemos una consulta en la que pedimos toda la información.\n",
    "Todo esto lo guardamos en un diccionario de tal forma que la clave es el nombre de la tabla y el valor es una dataframe que contiene la información de esta tabla."
   ]
  },
  {
   "cell_type": "code",
   "execution_count": 2,
   "metadata": {},
   "outputs": [],
   "source": [
    "def read_sqlite(dbfile):\n",
    "    with sqlite3.connect(dbfile) as dbcon:\n",
    "        tables = list(read_sql_query(\"SELECT name FROM sqlite_master WHERE type='table';\", dbcon)['name'])\n",
    "        out = {tbl : read_sql_query(f\"SELECT * from {tbl}\", dbcon) for tbl in tables}\n",
    "    return out"
   ]
  },
  {
   "cell_type": "markdown",
   "metadata": {},
   "source": [
    "Una vez tenemos los datos en este formato, lo que hay que hacer es manipularlos de tal forma que cada entrada en \n",
    "cada una de las tablas aparezca como un diccionario de python, que luego meteremos como objeto (o documento) en la colección correspondiente de la base de datos\n",
    "Para ello creamos la siguiente función (que luego usaremos para cada entrada de la base de datos). \n",
    "Usando en id que asigna pandas, la función crea un diccionario (que pasaremos como objeto) de cada entrada en una tabla"
   ]
  },
  {
   "cell_type": "code",
   "execution_count": 3,
   "metadata": {},
   "outputs": [],
   "source": [
    "def object_dict(table, id):\n",
    "    res = dict()\n",
    "    for field in table:\n",
    "        res[field] = table[field][id]\n",
    "    return res"
   ]
  },
  {
   "cell_type": "markdown",
   "metadata": {},
   "source": [
    "Una vez tenemos estas dos funciones definidas, falta unir las piezas del rompecabezas.\n",
    "Contando con que tengamos el servidor mongod levantado en el puerto 127.0.0.1:27017, nos conectamos a él con pymongo.\n",
    "Usamos la función creada anteriormente read_sqlite para obtener los datos de la base de datos en un formato en el que se pueda trabajar cómodamente. Creamos una base de datos en MongoDB con el mismo nombre que la anterior (quitando el formato del archivo).\n"
   ]
  },
  {
   "cell_type": "markdown",
   "metadata": {},
   "source": [
    "Después, iteramos por cada tabla de la base de datos .db para crear colecciones del mismo nombre en la base de mongo. En cada iteración, pasamos cada tabla a diccionario, y pasamos cada una de las entradas de esa tabla a diccionario gracias a la función que hemos creado anteriormente (object_dict). Estos diccionarios los metemos en una lista y los pasamos a mongoDB como objetos."
   ]
  },
  {
   "cell_type": "code",
   "execution_count": 4,
   "metadata": {},
   "outputs": [],
   "source": [
    "def db_to_mongo(db_name):\n",
    "    client = MongoClient('mongodb://localhost:27017/') # Conectamos con el servidor MongoD\n",
    "    old_db = read_sqlite(db_name) # Obtenemos un diccionario de dataframes de las tablas de la base de datos\n",
    "    mongo_db_name = db_name.replace('.db', '')\n",
    "    new_db = client[mongo_db_name] # Creamos una base de datos en nuestro servidor MongoD\n",
    "    for table in old_db:\n",
    "        table_dict = old_db[table].to_dict() # Pasamos cada tabla a diccionario\n",
    "        objects = [object_dict(table_dict, id) for id in range(len(table_dict[list(table_dict.keys())[0]]))] # Convertimos cada entrada en objeto y los metemos en una lista de objetos\n",
    "        collection = new_db[table] # Creamos en nuestra base de datos en mongod una colección del nombre de cada tabla\n",
    "        collection.insert_many(objects) # Insertamos los objetos en la colección correspondiente"
   ]
  },
  {
   "cell_type": "markdown",
   "metadata": {},
   "source": [
    "Ahora sólo queda ejecutar nuestra función con el nombre de la base de datos que queremos migrar a MongoDB.\n",
    "No nos olvidamos de tener el programa y la base de datos en la misma carpeta."
   ]
  },
  {
   "cell_type": "code",
   "execution_count": 5,
   "metadata": {},
   "outputs": [],
   "source": [
    "db_to_mongo('love4pets.db')"
   ]
  },
  {
   "cell_type": "markdown",
   "metadata": {},
   "source": [
    "¡Ya tenemos nuestra base de datos migrada a MongoDB!"
   ]
  }
 ],
 "metadata": {
  "kernelspec": {
   "display_name": "Python 3",
   "language": "python",
   "name": "python3"
  },
  "language_info": {
   "codemirror_mode": {
    "name": "ipython",
    "version": 3
   },
   "file_extension": ".py",
   "mimetype": "text/x-python",
   "name": "python",
   "nbconvert_exporter": "python",
   "pygments_lexer": "ipython3",
   "version": "3.8.10"
  }
 },
 "nbformat": 4,
 "nbformat_minor": 4
}
